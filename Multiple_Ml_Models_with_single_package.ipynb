{
  "nbformat": 4,
  "nbformat_minor": 0,
  "metadata": {
    "colab": {
      "name": "Multiple Ml Models with single package.ipynb",
      "provenance": [],
      "collapsed_sections": [],
      "include_colab_link": true
    },
    "kernelspec": {
      "name": "python3",
      "display_name": "Python 3"
    }
  },
  "cells": [
    {
      "cell_type": "markdown",
      "metadata": {
        "id": "view-in-github",
        "colab_type": "text"
      },
      "source": [
        "<a href=\"https://colab.research.google.com/github/snehitvaddi/100DaysOfMLCode/blob/master/Multiple_Ml_Models_with_single_package.ipynb\" target=\"_parent\"><img src=\"https://colab.research.google.com/assets/colab-badge.svg\" alt=\"Open In Colab\"/></a>"
      ]
    },
    {
      "cell_type": "code",
      "metadata": {
        "colab": {
          "base_uri": "https://localhost:8080/"
        },
        "id": "IkDJlg7k-Uvk",
        "outputId": "0aaca007-3f2d-4783-bd38-aac13127874b"
      },
      "source": [
        "!pip install lazypredict"
      ],
      "execution_count": null,
      "outputs": [
        {
          "output_type": "stream",
          "text": [
            "Collecting lazypredict\n",
            "  Downloading https://files.pythonhosted.org/packages/5f/db/1566dca1050ea74e9474dca0f1e7bbffcb0c3e694cf92e7e6e7ef9fca3af/lazypredict-0.2.7-py2.py3-none-any.whl\n",
            "Requirement already satisfied: Click>=7.0 in /usr/local/lib/python3.6/dist-packages (from lazypredict) (7.1.2)\n",
            "Installing collected packages: lazypredict\n",
            "Successfully installed lazypredict-0.2.7\n"
          ],
          "name": "stdout"
        }
      ]
    },
    {
      "cell_type": "code",
      "metadata": {
        "colab": {
          "base_uri": "https://localhost:8080/"
        },
        "id": "M2sO02rc-YMO",
        "outputId": "d346a782-f699-41e6-ab22-230287775360"
      },
      "source": [
        "from lazypredict.Supervised import LazyRegressor"
      ],
      "execution_count": null,
      "outputs": [
        {
          "output_type": "stream",
          "text": [
            "/usr/local/lib/python3.6/dist-packages/sklearn/utils/deprecation.py:144: FutureWarning: The sklearn.utils.testing module is  deprecated in version 0.22 and will be removed in version 0.24. The corresponding classes / functions should instead be imported from sklearn.utils. Anything that cannot be imported from sklearn.utils is now part of the private API.\n",
            "  warnings.warn(message, FutureWarning)\n"
          ],
          "name": "stderr"
        }
      ]
    },
    {
      "cell_type": "code",
      "metadata": {
        "id": "SUPi1STO-PAC"
      },
      "source": [
        "import numpy as np\r\n",
        "import pandas as pd\r\n",
        "from sklearn.model_selection import train_test_split"
      ],
      "execution_count": null,
      "outputs": []
    },
    {
      "cell_type": "code",
      "metadata": {
        "id": "Vs-eb4gY-RLA"
      },
      "source": [
        "df = pd.read_csv(\"heart.csv\")"
      ],
      "execution_count": null,
      "outputs": []
    },
    {
      "cell_type": "code",
      "metadata": {
        "colab": {
          "base_uri": "https://localhost:8080/",
          "height": 162
        },
        "id": "HkkVoDSO-c4v",
        "outputId": "512f77ee-dfcf-4697-c3ea-79bc0a911911"
      },
      "source": [
        "df.head(3)"
      ],
      "execution_count": null,
      "outputs": [
        {
          "output_type": "execute_result",
          "data": {
            "text/html": [
              "<div>\n",
              "<style scoped>\n",
              "    .dataframe tbody tr th:only-of-type {\n",
              "        vertical-align: middle;\n",
              "    }\n",
              "\n",
              "    .dataframe tbody tr th {\n",
              "        vertical-align: top;\n",
              "    }\n",
              "\n",
              "    .dataframe thead th {\n",
              "        text-align: right;\n",
              "    }\n",
              "</style>\n",
              "<table border=\"1\" class=\"dataframe\">\n",
              "  <thead>\n",
              "    <tr style=\"text-align: right;\">\n",
              "      <th></th>\n",
              "      <th>age</th>\n",
              "      <th>sex</th>\n",
              "      <th>cp</th>\n",
              "      <th>trestbps</th>\n",
              "      <th>chol</th>\n",
              "      <th>fbs</th>\n",
              "      <th>restecg</th>\n",
              "      <th>thalach</th>\n",
              "      <th>exang</th>\n",
              "      <th>oldpeak</th>\n",
              "      <th>slope</th>\n",
              "      <th>ca</th>\n",
              "      <th>thal</th>\n",
              "      <th>target</th>\n",
              "    </tr>\n",
              "  </thead>\n",
              "  <tbody>\n",
              "    <tr>\n",
              "      <th>0</th>\n",
              "      <td>63</td>\n",
              "      <td>1</td>\n",
              "      <td>3</td>\n",
              "      <td>145</td>\n",
              "      <td>233</td>\n",
              "      <td>1</td>\n",
              "      <td>0</td>\n",
              "      <td>150</td>\n",
              "      <td>0</td>\n",
              "      <td>2.30</td>\n",
              "      <td>0</td>\n",
              "      <td>0</td>\n",
              "      <td>1</td>\n",
              "      <td>1</td>\n",
              "    </tr>\n",
              "    <tr>\n",
              "      <th>1</th>\n",
              "      <td>37</td>\n",
              "      <td>1</td>\n",
              "      <td>2</td>\n",
              "      <td>130</td>\n",
              "      <td>250</td>\n",
              "      <td>0</td>\n",
              "      <td>1</td>\n",
              "      <td>187</td>\n",
              "      <td>0</td>\n",
              "      <td>3.50</td>\n",
              "      <td>0</td>\n",
              "      <td>0</td>\n",
              "      <td>2</td>\n",
              "      <td>1</td>\n",
              "    </tr>\n",
              "    <tr>\n",
              "      <th>2</th>\n",
              "      <td>41</td>\n",
              "      <td>0</td>\n",
              "      <td>1</td>\n",
              "      <td>130</td>\n",
              "      <td>204</td>\n",
              "      <td>0</td>\n",
              "      <td>0</td>\n",
              "      <td>172</td>\n",
              "      <td>0</td>\n",
              "      <td>1.40</td>\n",
              "      <td>2</td>\n",
              "      <td>0</td>\n",
              "      <td>2</td>\n",
              "      <td>1</td>\n",
              "    </tr>\n",
              "  </tbody>\n",
              "</table>\n",
              "</div>"
            ],
            "text/plain": [
              "   age  sex  cp  trestbps  chol  fbs  ...  exang  oldpeak  slope  ca  thal  target\n",
              "0   63    1   3       145   233    1  ...      0     2.30      0   0     1       1\n",
              "1   37    1   2       130   250    0  ...      0     3.50      0   0     2       1\n",
              "2   41    0   1       130   204    0  ...      0     1.40      2   0     2       1\n",
              "\n",
              "[3 rows x 14 columns]"
            ]
          },
          "metadata": {
            "tags": []
          },
          "execution_count": 6
        }
      ]
    },
    {
      "cell_type": "code",
      "metadata": {
        "id": "Aeq2oSnr-d9r"
      },
      "source": [
        "target = \"target\"\r\n",
        "X = df.loc[:, df.columns != target]\r\n",
        "y = df.loc[:, df.columns == target]"
      ],
      "execution_count": null,
      "outputs": []
    },
    {
      "cell_type": "code",
      "metadata": {
        "id": "xc0MpM7N-tbf"
      },
      "source": [
        "X_train, X_test, y_train, y_test = train_test_split(X, y, test_size=0.20, \r\n",
        "                                                    random_state=42)"
      ],
      "execution_count": null,
      "outputs": []
    },
    {
      "cell_type": "code",
      "metadata": {
        "id": "LRzCsOBwQhUh"
      },
      "source": [
        "from sklearn.preprocessing import StandardScaler\r\n",
        "scalar = StandardScaler()\r\n",
        "scalar.fit(X_train)\r\n",
        "X_train = scalar.transform(X_train)\r\n",
        "X_test = scalar.transform(X_test)"
      ],
      "execution_count": null,
      "outputs": []
    },
    {
      "cell_type": "code",
      "metadata": {
        "id": "bqI9lK6F-xhD"
      },
      "source": [
        "reg = LazyRegressor(verbose=0,ignore_warnings=False, custom_metric=None )"
      ],
      "execution_count": null,
      "outputs": []
    },
    {
      "cell_type": "code",
      "metadata": {
        "colab": {
          "base_uri": "https://localhost:8080/"
        },
        "id": "tNpgY52l-zzh",
        "outputId": "43a6f36a-aa7e-47a4-dd92-aad24f5fbf0f"
      },
      "source": [
        "models,predictions = reg.fit(X_train, X_test, y_train, y_test)"
      ],
      "execution_count": null,
      "outputs": [
        {
          "output_type": "stream",
          "text": [
            " 77%|███████▋  | 30/39 [00:01<00:00, 13.67it/s]"
          ],
          "name": "stderr"
        },
        {
          "output_type": "stream",
          "text": [
            "RANSACRegressor model failed to execute\n",
            "RANSAC could not find a valid consensus set. All `max_trials` iterations were skipped because each randomly chosen sub-sample failed the passing criteria. See estimator attributes for diagnostics (n_skips*).\n"
          ],
          "name": "stdout"
        },
        {
          "output_type": "stream",
          "text": [
            "100%|██████████| 39/39 [00:02<00:00, 17.76it/s]"
          ],
          "name": "stderr"
        },
        {
          "output_type": "stream",
          "text": [
            "StackingRegressor model failed to execute\n",
            "__init__() missing 1 required positional argument: 'estimators'\n",
            "[12:28:20] WARNING: /workspace/src/objective/regression_obj.cu:152: reg:linear is now deprecated in favor of reg:squarederror.\n"
          ],
          "name": "stdout"
        },
        {
          "output_type": "stream",
          "text": [
            "\n"
          ],
          "name": "stderr"
        }
      ]
    },
    {
      "cell_type": "code",
      "metadata": {
        "colab": {
          "base_uri": "https://localhost:8080/",
          "height": 1000
        },
        "id": "Gta3dVaT-2r3",
        "outputId": "73995292-314c-4ffb-8b63-28cbcaee0a3d"
      },
      "source": [
        "models"
      ],
      "execution_count": null,
      "outputs": [
        {
          "output_type": "execute_result",
          "data": {
            "text/html": [
              "<div>\n",
              "<style scoped>\n",
              "    .dataframe tbody tr th:only-of-type {\n",
              "        vertical-align: middle;\n",
              "    }\n",
              "\n",
              "    .dataframe tbody tr th {\n",
              "        vertical-align: top;\n",
              "    }\n",
              "\n",
              "    .dataframe thead th {\n",
              "        text-align: right;\n",
              "    }\n",
              "</style>\n",
              "<table border=\"1\" class=\"dataframe\">\n",
              "  <thead>\n",
              "    <tr style=\"text-align: right;\">\n",
              "      <th></th>\n",
              "      <th>R-Squared</th>\n",
              "      <th>RMSE</th>\n",
              "      <th>Time Taken</th>\n",
              "    </tr>\n",
              "    <tr>\n",
              "      <th>Model</th>\n",
              "      <th></th>\n",
              "      <th></th>\n",
              "      <th></th>\n",
              "    </tr>\n",
              "  </thead>\n",
              "  <tbody>\n",
              "    <tr>\n",
              "      <th>NuSVR</th>\n",
              "      <td>0.57</td>\n",
              "      <td>0.33</td>\n",
              "      <td>0.02</td>\n",
              "    </tr>\n",
              "    <tr>\n",
              "      <th>KNeighborsRegressor</th>\n",
              "      <td>0.57</td>\n",
              "      <td>0.33</td>\n",
              "      <td>0.01</td>\n",
              "    </tr>\n",
              "    <tr>\n",
              "      <th>SVR</th>\n",
              "      <td>0.55</td>\n",
              "      <td>0.34</td>\n",
              "      <td>0.02</td>\n",
              "    </tr>\n",
              "    <tr>\n",
              "      <th>BayesianRidge</th>\n",
              "      <td>0.54</td>\n",
              "      <td>0.34</td>\n",
              "      <td>0.01</td>\n",
              "    </tr>\n",
              "    <tr>\n",
              "      <th>ElasticNetCV</th>\n",
              "      <td>0.54</td>\n",
              "      <td>0.34</td>\n",
              "      <td>0.06</td>\n",
              "    </tr>\n",
              "    <tr>\n",
              "      <th>LassoCV</th>\n",
              "      <td>0.54</td>\n",
              "      <td>0.34</td>\n",
              "      <td>0.07</td>\n",
              "    </tr>\n",
              "    <tr>\n",
              "      <th>LassoLarsCV</th>\n",
              "      <td>0.54</td>\n",
              "      <td>0.34</td>\n",
              "      <td>0.03</td>\n",
              "    </tr>\n",
              "    <tr>\n",
              "      <th>LarsCV</th>\n",
              "      <td>0.54</td>\n",
              "      <td>0.34</td>\n",
              "      <td>0.08</td>\n",
              "    </tr>\n",
              "    <tr>\n",
              "      <th>LassoLarsIC</th>\n",
              "      <td>0.54</td>\n",
              "      <td>0.34</td>\n",
              "      <td>0.01</td>\n",
              "    </tr>\n",
              "    <tr>\n",
              "      <th>RidgeCV</th>\n",
              "      <td>0.54</td>\n",
              "      <td>0.34</td>\n",
              "      <td>0.01</td>\n",
              "    </tr>\n",
              "    <tr>\n",
              "      <th>Ridge</th>\n",
              "      <td>0.53</td>\n",
              "      <td>0.34</td>\n",
              "      <td>0.01</td>\n",
              "    </tr>\n",
              "    <tr>\n",
              "      <th>TransformedTargetRegressor</th>\n",
              "      <td>0.53</td>\n",
              "      <td>0.34</td>\n",
              "      <td>0.01</td>\n",
              "    </tr>\n",
              "    <tr>\n",
              "      <th>LinearRegression</th>\n",
              "      <td>0.53</td>\n",
              "      <td>0.34</td>\n",
              "      <td>0.02</td>\n",
              "    </tr>\n",
              "    <tr>\n",
              "      <th>Lars</th>\n",
              "      <td>0.53</td>\n",
              "      <td>0.34</td>\n",
              "      <td>0.03</td>\n",
              "    </tr>\n",
              "    <tr>\n",
              "      <th>RandomForestRegressor</th>\n",
              "      <td>0.53</td>\n",
              "      <td>0.34</td>\n",
              "      <td>0.20</td>\n",
              "    </tr>\n",
              "    <tr>\n",
              "      <th>SGDRegressor</th>\n",
              "      <td>0.53</td>\n",
              "      <td>0.34</td>\n",
              "      <td>0.01</td>\n",
              "    </tr>\n",
              "    <tr>\n",
              "      <th>ExtraTreesRegressor</th>\n",
              "      <td>0.52</td>\n",
              "      <td>0.35</td>\n",
              "      <td>0.12</td>\n",
              "    </tr>\n",
              "    <tr>\n",
              "      <th>HuberRegressor</th>\n",
              "      <td>0.52</td>\n",
              "      <td>0.35</td>\n",
              "      <td>0.02</td>\n",
              "    </tr>\n",
              "    <tr>\n",
              "      <th>XGBRegressor</th>\n",
              "      <td>0.49</td>\n",
              "      <td>0.36</td>\n",
              "      <td>0.04</td>\n",
              "    </tr>\n",
              "    <tr>\n",
              "      <th>HistGradientBoostingRegressor</th>\n",
              "      <td>0.48</td>\n",
              "      <td>0.36</td>\n",
              "      <td>0.14</td>\n",
              "    </tr>\n",
              "    <tr>\n",
              "      <th>LGBMRegressor</th>\n",
              "      <td>0.47</td>\n",
              "      <td>0.36</td>\n",
              "      <td>0.03</td>\n",
              "    </tr>\n",
              "    <tr>\n",
              "      <th>LinearSVR</th>\n",
              "      <td>0.47</td>\n",
              "      <td>0.36</td>\n",
              "      <td>0.02</td>\n",
              "    </tr>\n",
              "    <tr>\n",
              "      <th>GradientBoostingRegressor</th>\n",
              "      <td>0.47</td>\n",
              "      <td>0.36</td>\n",
              "      <td>0.14</td>\n",
              "    </tr>\n",
              "    <tr>\n",
              "      <th>BaggingRegressor</th>\n",
              "      <td>0.46</td>\n",
              "      <td>0.37</td>\n",
              "      <td>0.03</td>\n",
              "    </tr>\n",
              "    <tr>\n",
              "      <th>OrthogonalMatchingPursuitCV</th>\n",
              "      <td>0.46</td>\n",
              "      <td>0.37</td>\n",
              "      <td>0.02</td>\n",
              "    </tr>\n",
              "    <tr>\n",
              "      <th>MLPRegressor</th>\n",
              "      <td>0.45</td>\n",
              "      <td>0.37</td>\n",
              "      <td>0.69</td>\n",
              "    </tr>\n",
              "    <tr>\n",
              "      <th>AdaBoostRegressor</th>\n",
              "      <td>0.36</td>\n",
              "      <td>0.40</td>\n",
              "      <td>0.09</td>\n",
              "    </tr>\n",
              "    <tr>\n",
              "      <th>ExtraTreeRegressor</th>\n",
              "      <td>0.15</td>\n",
              "      <td>0.46</td>\n",
              "      <td>0.01</td>\n",
              "    </tr>\n",
              "    <tr>\n",
              "      <th>OrthogonalMatchingPursuit</th>\n",
              "      <td>0.12</td>\n",
              "      <td>0.47</td>\n",
              "      <td>0.01</td>\n",
              "    </tr>\n",
              "    <tr>\n",
              "      <th>DecisionTreeRegressor</th>\n",
              "      <td>0.01</td>\n",
              "      <td>0.50</td>\n",
              "      <td>0.01</td>\n",
              "    </tr>\n",
              "    <tr>\n",
              "      <th>LassoLars</th>\n",
              "      <td>-0.00</td>\n",
              "      <td>0.50</td>\n",
              "      <td>0.01</td>\n",
              "    </tr>\n",
              "    <tr>\n",
              "      <th>Lasso</th>\n",
              "      <td>-0.00</td>\n",
              "      <td>0.50</td>\n",
              "      <td>0.01</td>\n",
              "    </tr>\n",
              "    <tr>\n",
              "      <th>ElasticNet</th>\n",
              "      <td>-0.00</td>\n",
              "      <td>0.50</td>\n",
              "      <td>0.01</td>\n",
              "    </tr>\n",
              "    <tr>\n",
              "      <th>DummyRegressor</th>\n",
              "      <td>-0.00</td>\n",
              "      <td>0.50</td>\n",
              "      <td>0.01</td>\n",
              "    </tr>\n",
              "    <tr>\n",
              "      <th>GaussianProcessRegressor</th>\n",
              "      <td>-0.23</td>\n",
              "      <td>0.55</td>\n",
              "      <td>0.03</td>\n",
              "    </tr>\n",
              "    <tr>\n",
              "      <th>PassiveAggressiveRegressor</th>\n",
              "      <td>-0.31</td>\n",
              "      <td>0.57</td>\n",
              "      <td>0.02</td>\n",
              "    </tr>\n",
              "    <tr>\n",
              "      <th>KernelRidge</th>\n",
              "      <td>-1.11</td>\n",
              "      <td>0.72</td>\n",
              "      <td>0.02</td>\n",
              "    </tr>\n",
              "  </tbody>\n",
              "</table>\n",
              "</div>"
            ],
            "text/plain": [
              "                               R-Squared  RMSE  Time Taken\n",
              "Model                                                     \n",
              "NuSVR                               0.57  0.33        0.02\n",
              "KNeighborsRegressor                 0.57  0.33        0.01\n",
              "SVR                                 0.55  0.34        0.02\n",
              "BayesianRidge                       0.54  0.34        0.01\n",
              "ElasticNetCV                        0.54  0.34        0.06\n",
              "LassoCV                             0.54  0.34        0.07\n",
              "LassoLarsCV                         0.54  0.34        0.03\n",
              "LarsCV                              0.54  0.34        0.08\n",
              "LassoLarsIC                         0.54  0.34        0.01\n",
              "RidgeCV                             0.54  0.34        0.01\n",
              "Ridge                               0.53  0.34        0.01\n",
              "TransformedTargetRegressor          0.53  0.34        0.01\n",
              "LinearRegression                    0.53  0.34        0.02\n",
              "Lars                                0.53  0.34        0.03\n",
              "RandomForestRegressor               0.53  0.34        0.20\n",
              "SGDRegressor                        0.53  0.34        0.01\n",
              "ExtraTreesRegressor                 0.52  0.35        0.12\n",
              "HuberRegressor                      0.52  0.35        0.02\n",
              "XGBRegressor                        0.49  0.36        0.04\n",
              "HistGradientBoostingRegressor       0.48  0.36        0.14\n",
              "LGBMRegressor                       0.47  0.36        0.03\n",
              "LinearSVR                           0.47  0.36        0.02\n",
              "GradientBoostingRegressor           0.47  0.36        0.14\n",
              "BaggingRegressor                    0.46  0.37        0.03\n",
              "OrthogonalMatchingPursuitCV         0.46  0.37        0.02\n",
              "MLPRegressor                        0.45  0.37        0.69\n",
              "AdaBoostRegressor                   0.36  0.40        0.09\n",
              "ExtraTreeRegressor                  0.15  0.46        0.01\n",
              "OrthogonalMatchingPursuit           0.12  0.47        0.01\n",
              "DecisionTreeRegressor               0.01  0.50        0.01\n",
              "LassoLars                          -0.00  0.50        0.01\n",
              "Lasso                              -0.00  0.50        0.01\n",
              "ElasticNet                         -0.00  0.50        0.01\n",
              "DummyRegressor                     -0.00  0.50        0.01\n",
              "GaussianProcessRegressor           -0.23  0.55        0.03\n",
              "PassiveAggressiveRegressor         -0.31  0.57        0.02\n",
              "KernelRidge                        -1.11  0.72        0.02"
            ]
          },
          "metadata": {
            "tags": []
          },
          "execution_count": 20
        }
      ]
    },
    {
      "cell_type": "markdown",
      "metadata": {
        "id": "2cqlPVb1PuS4"
      },
      "source": [
        "## Since KNeighborsRegressor and SVR has performed well, lets check them."
      ]
    },
    {
      "cell_type": "code",
      "metadata": {
        "id": "9SEMlzxGMaoj"
      },
      "source": [
        "from sklearn.neighbors import KNeighborsClassifier"
      ],
      "execution_count": null,
      "outputs": []
    },
    {
      "cell_type": "markdown",
      "metadata": {
        "id": "wiYvhMedSGJ4"
      },
      "source": [
        "#### Look for best K Value"
      ]
    },
    {
      "cell_type": "code",
      "metadata": {
        "colab": {
          "base_uri": "https://localhost:8080/"
        },
        "id": "k3I7f4SIRbmG",
        "outputId": "73a0e7fa-e8af-4941-950a-24a354b841d8"
      },
      "source": [
        "from sklearn.model_selection import GridSearchCV\r\n",
        "params = {'n_neighbors':[2,3,4,5,6,7,8,9]}\r\n",
        "\r\n",
        "knn = neighbors.KNeighborsClassifier()\r\n",
        "\r\n",
        "model = GridSearchCV(knn, params, cv=5)\r\n",
        "model.fit(X_train,y_train)\r\n",
        "model.best_params_"
      ],
      "execution_count": null,
      "outputs": [
        {
          "output_type": "execute_result",
          "data": {
            "text/plain": [
              "{'n_neighbors': 5}"
            ]
          },
          "metadata": {
            "tags": []
          },
          "execution_count": 41
        }
      ]
    },
    {
      "cell_type": "markdown",
      "metadata": {
        "id": "bjNbx7XtSMOD"
      },
      "source": [
        "#### Training the model"
      ]
    },
    {
      "cell_type": "code",
      "metadata": {
        "colab": {
          "base_uri": "https://localhost:8080/"
        },
        "id": "H_RU4-LTR125",
        "outputId": "ad2ebd0c-3c4a-405b-91aa-afb5b3d53809"
      },
      "source": [
        "knn = KNeighborsClassifier(n_neighbors=5)\r\n",
        "knn.fit(X_train, y_train)"
      ],
      "execution_count": null,
      "outputs": [
        {
          "output_type": "execute_result",
          "data": {
            "text/plain": [
              "KNeighborsClassifier(algorithm='auto', leaf_size=30, metric='minkowski',\n",
              "                     metric_params=None, n_jobs=None, n_neighbors=5, p=2,\n",
              "                     weights='uniform')"
            ]
          },
          "metadata": {
            "tags": []
          },
          "execution_count": 42
        }
      ]
    },
    {
      "cell_type": "code",
      "metadata": {
        "colab": {
          "base_uri": "https://localhost:8080/"
        },
        "id": "jUm_Ay-ASauH",
        "outputId": "a7884566-afc3-46e4-a16b-5b06a4dc9a25"
      },
      "source": [
        "X_test[4]"
      ],
      "execution_count": null,
      "outputs": [
        {
          "output_type": "execute_result",
          "data": {
            "text/plain": [
              "array([ 1.800367  , -1.38407465,  0.98808912, -1.21230447,  0.34462536,\n",
              "        2.60891771, -1.04610909, -0.90180001, -0.67663234, -0.92086403,\n",
              "        0.95390513,  0.32186034, -0.50904773])"
            ]
          },
          "metadata": {
            "tags": []
          },
          "execution_count": 43
        }
      ]
    },
    {
      "cell_type": "code",
      "metadata": {
        "id": "ocpEz8_gSxfa"
      },
      "source": [
        "from sklearn.metrics import accuracy_score, confusion_matrix, classification_report"
      ],
      "execution_count": null,
      "outputs": []
    },
    {
      "cell_type": "code",
      "metadata": {
        "colab": {
          "base_uri": "https://localhost:8080/"
        },
        "id": "NAhUoXBUTC7x",
        "outputId": "b5fab609-eb1c-4287-cf3b-14816d81077f"
      },
      "source": [
        "predictions = knn.predict(X_test)\r\n",
        "print(\"Accuracy of KNN model id {}\".format(round(accuracy_score(y_test, predictions)*100,2)))"
      ],
      "execution_count": null,
      "outputs": [
        {
          "output_type": "stream",
          "text": [
            "Accuracy of KNN model id 90.16\n"
          ],
          "name": "stdout"
        }
      ]
    },
    {
      "cell_type": "code",
      "metadata": {
        "colab": {
          "base_uri": "https://localhost:8080/"
        },
        "id": "Cn4ckN0fUAIL",
        "outputId": "c02352ef-2c5f-40f6-8194-b17809b49d25"
      },
      "source": [
        "confusion_matrix(y_test, predictions)"
      ],
      "execution_count": null,
      "outputs": [
        {
          "output_type": "execute_result",
          "data": {
            "text/plain": [
              "array([[27,  2],\n",
              "       [ 4, 28]])"
            ]
          },
          "metadata": {
            "tags": []
          },
          "execution_count": 47
        }
      ]
    },
    {
      "cell_type": "code",
      "metadata": {
        "id": "XJ0RXqIgUL7x"
      },
      "source": [
        ""
      ],
      "execution_count": null,
      "outputs": []
    }
  ]
}